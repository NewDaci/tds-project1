{
 "cells": [
  {
   "cell_type": "code",
   "execution_count": 1,
   "metadata": {},
   "outputs": [],
   "source": [
    "import requests\n",
    "import csv"
   ]
  },
  {
   "cell_type": "code",
   "execution_count": 2,
   "metadata": {},
   "outputs": [],
   "source": [
    "# Set up GitHub API access\n",
    "token = \"YOUR_GITHUB_TOKEN\"\n",
    "headers = {\"Authorization\": f\"token {token}\"}"
   ]
  },
  {
   "cell_type": "code",
   "execution_count": 5,
   "metadata": {},
   "outputs": [],
   "source": [
    "# Search users in Paris with more than 200 followers\n",
    "def search_users_in_paris():\n",
    "    url = \"https://api.github.com/search/users\"\n",
    "    location=\"Paris\"\n",
    "    followers=\"200\"\n",
    "    params = {\"q\": f\"location:{location} followers:>{followers}\", \"per_page\": 100}\n",
    "    response = requests.get(url, headers=headers, params=params)\n",
    "    return response.json().get(\"items\", [])\n"
   ]
  },
  {
   "cell_type": "code",
   "execution_count": null,
   "metadata": {},
   "outputs": [],
   "source": [
    "# Fetch user details\n",
    "def get_user_details(username):\n",
    "    url = f\"https://api.github.com/users/{username}\"\n",
    "    response = requests.get(url, headers=headers)\n",
    "    return response.json()\n"
   ]
  },
  {
   "cell_type": "code",
   "execution_count": null,
   "metadata": {},
   "outputs": [],
   "source": [
    "# Fetch repositories for each user\n",
    "def get_user_repos(username):\n",
    "    url = f\"https://api.github.com/users/{username}/repos\"\n",
    "    params = {\"per_page\": 500, \"sort\": \"pushed\"}\n",
    "    response = requests.get(url, headers=headers, params=params)\n",
    "    return response.json()\n"
   ]
  },
  {
   "cell_type": "code",
   "execution_count": null,
   "metadata": {},
   "outputs": [],
   "source": [
    "# Function to clean up company names\n",
    "def clean_company_name(company):\n",
    "    if company:\n",
    "        return company.strip().lstrip('@').upper()\n",
    "    return company"
   ]
  },
  {
   "cell_type": "code",
   "execution_count": null,
   "metadata": {},
   "outputs": [],
   "source": [
    "# Save users to CSV\n",
    "def save_users_to_csv(users, filename=\"users.csv\"):\n",
    "    with open(filename, mode=\"w\", newline=\"\", encoding=\"utf-8\") as file:\n",
    "        writer = csv.DictWriter(\n",
    "            file,\n",
    "            fieldnames=[\n",
    "                \"login\",\n",
    "                \"name\",\n",
    "                \"company\",\n",
    "                \"location\",\n",
    "                \"email\",\n",
    "                \"hireable\",\n",
    "                \"bio\",\n",
    "                \"public_repos\",\n",
    "                \"followers\",\n",
    "                \"following\",\n",
    "                \"created_at\",\n",
    "            ],\n",
    "        )\n",
    "        writer.writeheader()\n",
    "        for user in users:\n",
    "            writer.writerow(user)"
   ]
  },
  {
   "cell_type": "code",
   "execution_count": null,
   "metadata": {},
   "outputs": [],
   "source": [
    "# Save repositories to CSV\n",
    "def save_repos_to_csv(repos, filename=\"repositories.csv\"):\n",
    "    with open(filename, mode=\"w\", newline=\"\", encoding=\"utf-8\") as file:\n",
    "        writer = csv.DictWriter(\n",
    "            file,\n",
    "            fieldnames=[\n",
    "                \"login\",\n",
    "                \"full_name\",\n",
    "                \"created_at\",\n",
    "                \"stargazers_count\",\n",
    "                \"watchers_count\",\n",
    "                \"language\",\n",
    "                \"has_projects\",\n",
    "                \"has_wiki\",\n",
    "                \"license_name\",\n",
    "            ],\n",
    "        )\n",
    "        writer.writeheader()\n",
    "        for repo in repos:\n",
    "            writer.writerow(repo)"
   ]
  },
  {
   "cell_type": "code",
   "execution_count": null,
   "metadata": {},
   "outputs": [],
   "source": [
    "# Main function\n",
    "def main():\n",
    "    users = search_users_in_paris()\n",
    "    user_data = []\n",
    "    repo_data = []\n",
    "\n",
    "    for user in users:\n",
    "        details = get_user_details(user[\"login\"])\n",
    "        user_data.append(\n",
    "            {\n",
    "                \"login\": details[\"login\"],\n",
    "                \"name\": details.get(\"name\", \"\"),\n",
    "                # Use an empty string if company is None\n",
    "                \"company\": clean_company_name(\n",
    "                    details.get(\"company\", \"\") or \"\"\n",
    "                ),  # Handle NoneType\n",
    "                \"location\": details.get(\"location\", \"\"),\n",
    "                \"email\": details.get(\"email\", \"\"),\n",
    "                \"hireable\": \"true\" if details.get(\"hireable\") is True else \"false\",\n",
    "                \"bio\": details.get(\"bio\", \"\"),\n",
    "                \"public_repos\": details.get(\"public_repos\", 0),\n",
    "                \"followers\": details.get(\"followers\", 0),\n",
    "                \"following\": details.get(\"following\", 0),\n",
    "                \"created_at\": details.get(\"created_at\", \"\"),\n",
    "            }\n",
    "        )\n",
    "\n",
    "        # Fetch repositories for this user\n",
    "        repos = get_user_repos(user[\"login\"])\n",
    "        for repo in repos:\n",
    "            repo_data.append(\n",
    "                {\n",
    "                    \"login\": user[\"login\"],\n",
    "                    \"full_name\": repo[\"full_name\"],\n",
    "                    \"created_at\": repo[\"created_at\"],\n",
    "                    \"stargazers_count\": repo[\"stargazers_count\"],\n",
    "                    \"watchers_count\": repo[\"watchers_count\"],\n",
    "                    \"language\": repo.get(\"language\", \"\"),\n",
    "                    \"has_projects\": (\n",
    "                        \"true\" if repo[\"has_projects\"] else \"false\"\n",
    "                    ),  # Handle booleans\n",
    "                    \"has_wiki\": (\n",
    "                        \"true\" if repo[\"has_wiki\"] else \"false\"\n",
    "                    ),  # Handle booleans\n",
    "                    \"license_name\": (\n",
    "                        repo.get(\"license\", {}).get(\"key\", \"\")\n",
    "                        if repo.get(\"license\")\n",
    "                        else \"\"\n",
    "                    ),  # Handle NoneType\n",
    "                }\n",
    "            )\n",
    "\n",
    "    # Save data to CSV\n",
    "    save_users_to_csv(user_data)\n",
    "    save_repos_to_csv(repo_data)"
   ]
  },
  {
   "cell_type": "code",
   "execution_count": null,
   "metadata": {},
   "outputs": [],
   "source": [
    "main()"
   ]
  }
 ],
 "metadata": {
  "kernelspec": {
   "display_name": "Python 3",
   "language": "python",
   "name": "python3"
  },
  "language_info": {
   "codemirror_mode": {
    "name": "ipython",
    "version": 3
   },
   "file_extension": ".py",
   "mimetype": "text/x-python",
   "name": "python",
   "nbconvert_exporter": "python",
   "pygments_lexer": "ipython3",
   "version": "3.10.12"
  }
 },
 "nbformat": 4,
 "nbformat_minor": 2
}
